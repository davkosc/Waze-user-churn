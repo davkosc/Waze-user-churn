{
 "cells": [
  {
   "cell_type": "code",
   "execution_count": 2,
   "id": "c585d9f1",
   "metadata": {},
   "outputs": [],
   "source": [
    "import numpy as np\n",
    "import pandas as pd"
   ]
  },
  {
   "cell_type": "code",
   "execution_count": 6,
   "id": "e542ac42",
   "metadata": {},
   "outputs": [
    {
     "ename": "SyntaxError",
     "evalue": "invalid syntax (2476539235.py, line 10)",
     "output_type": "error",
     "traceback": [
      "\u001b[1;36m  File \u001b[1;32m\"C:\\Users\\David.Kosciulek\\AppData\\Local\\Temp\\ipykernel_11756\\2476539235.py\"\u001b[1;36m, line \u001b[1;32m10\u001b[0m\n\u001b[1;33m    'Colgate Palmolive Company', 'Conagra Brands Inc', 'Continental AG', 'Corbion', 'Croda International', 'Curtis Packaging Corporation', 'Dai Nippon Printing Co., Ltd.', 'Danone', 'Dawn Meats Group Ltd', 'Deckers Outdoor Corp.', 'Dexco S.A', 'DS Smith Plc', 'Eastman Chemical Company', 'ENGIE', 'Essity', 'Estee Lauder Companies Inc.', 'Evonik Industries AG', 'Fast Retailing Co., Ltd.', 'Fresh Del Monte Produce Inc', 'FUJI OIL HOLDINGS INC.', 'General Mills Inc.', 'Georgia-Pacific', 'GlaxoSmithKline', 'Godrej Agrovet', 'Golden Agri-Resources', 'Golden West Trading Inc', 'GRAFICA E EDITORA POSIGRAF', 'Graphic Packaging International LLC', 'Grupo Bimbo, S.A.B. de C.V.', 'Grupo Clarin SA', 'GRUPO DE MODA SOMA SA', 'Grupo Herdez', 'H&M Hennes & Mauritz AB', 'Henkel AG & Co. KGaA', 'Hermes International', 'Hilton Food Group plc', 'Holmen', 'HP Inc', 'INDFRAG LTD (GROUP)', 'Inditex', 'Inner Mongolia Yili Industrial Group', 'International Flavors & Fragrances Inc.', 'International Paper Company', 'IOI Corporation Berhad', 'ISF-International Specialty Fats Sdn Bhd', 'Itoham Yonekyu Holdings', 'J Sainsbury Plc', 'JBS S.A', 'Jerónimo Martins SGPS SA', 'Johnson & Johnson', 'KAO Corporation', 'Kimberly-Clark Corporation', 'Kimberly-Clark de México S.A.B. de C.V.', 'Kingfisher', 'Klabin S/A', 'Kobayashi Pharmaceutical Co., Ltd.', 'Kokuyo Co., Ltd.', 'L'Oréal', 'Lotus Bakeries', 'Lowe's Companies, Inc.', 'LVMH', 'Marfrig Global Foods S/A', 'Mars', 'Marubeni Corporation', 'Mayr-Melnhof Karton Aktiengesellschaft', 'MEGMILK SNOW BRAND Co.,Ltd.', 'Metro AG', 'Metsä Board Corporation', 'Michelin', 'Minerva Foods', 'Miquel y Costas', 'Mitsubishi Paper Mills Ltd', 'Mitsui & Co., Ltd.', 'Mondelez International Inc', 'Mondi PLC', 'Morgan Sindall Group plc', 'Morinaga Milk Industry Co., Ltd.', 'MOTHER PARKERS TEA & COFFEE', 'MRV Engenharia e Participações', 'Musim Mas Holdings Pte Ltd', 'Nagase & Co., Ltd.', 'Neste Oyj', 'Nestlé', 'NH Foods Ltd.', 'Oji Holdings Corporation', 'Olam International', 'OLEON HOLDING', 'Oxiteno S.A.', 'Pactiv Evergreen, Inc.', 'PepsiCo, Inc.', 'Philip Morris International', 'Pirelli', 'PotlatchDeltic Corporation', 'Precious Woods Holding AG', 'Procter & Gamble Company', 'PT Asia Pulp & Paper', 'PT Asian Agri', 'PT Austindo Nusantara Jaya, Tbk', 'PT Ecogreen Oleochemicals', 'PT Perum Perhutani', 'PZ Cussons', 'Reckitt Benckiser', 'Resolute Forest Products Inc.', 'Robertet SA', 'Royal BAM Group nv', 'S.C. Johnson & Son, Inc.', 'S.T. CORPORATION', 'Sappi', 'SCA', 'Sekisui House, Ltd.', 'Siam Cement', 'SILAB', 'Sime Darby Plantation Berhad', 'Sipef NV', 'SLC Agricola SA', 'Smurfit Kappa Group PLC', 'Sodexo', 'Sojitz Corporation', 'Sonae', 'Sonoco Products Company', 'SSE', 'Starbucks Corporation', 'Stéarinerie Dubois', 'Stora Enso Oyj', 'Sumitomo Corporation', 'Sumitomo Forestry Co., Ltd.', 'Suzano Papel & Celulose', 'Sylvamo Corporation', 'Taisei Corporation', 'Takasago International Corporation', 'Tesco', 'TETRA PAK', 'The Dow Chemical Company', 'The Hershey Company', 'The Navigator Company', 'The Nisshin OilliO Group,Ltd.', 'The Yokohama Rubber Co., Ltd.', 'Toppan Inc.', 'Toyota Tsusho Corporation', 'Tyson Foods, Inc.', 'Uni-Charm Corporation', 'Unilever plc', 'Universal Corporation', 'UPM-Kymmene Corporation', 'Want Want China Holdings Ltd.', 'West Fraser Timber Co. Ltd.', 'WestRock Company', 'Weyerhaeuser Company', 'Wilmar International Limited', 'Yum! Brands, Inc.']\u001b[0m\n\u001b[1;37m                                                                                                                                                                                                                                                                                                                                                                                                                                                                                                                                                                                                                                                                                                                                                                                                                                                                                                                                                                                                                                                                                                                                                                                                                                                                                                                                                                                                                  ^\u001b[0m\n\u001b[1;31mSyntaxError\u001b[0m\u001b[1;31m:\u001b[0m invalid syntax\n"
     ]
    }
   ],
   "source": [
    "all_cos = ['AAK AB', 'ALEN DEL NORTE SA DE CV', 'Altri SGPS SA', 'Altria Group, Inc.', 'Amaggi', \n",
    "           'Apical Group Ltd', 'Archer Daniels Midland', 'Arcos Dorados', \n",
    "           'Asia Pacific Resources International Holdings Limited', 'Avril', 'Barry Callebaut AG', \n",
    "           'BASF SE', 'Bayer AG', 'Beiersdorf AG', 'BillerudKorsnäs', 'Borregaard ASA', 'Brambles', \n",
    "           'Brasilgrafica S.A', 'British American Tobacco', 'Bunge', 'Burberry Group', 'Cargill', \n",
    "           'Carrefour', 'CARREFOURSA CARREFOUR SABANCI TİCARET MERKEZİ A.Ş.', 'Cartolito', \n",
    "           'Cascades Inc.', 'Casino Guichard-Perrachon', 'Charoen Pokphand Foods PCL', \n",
    "           'Chocoladefabriken Lindt & Sprüngli AG', 'Church & Dwight Co., Inc', \n",
    "           'Cia. Brasileira de Distribuicao (CBD) Grupo Pao de Acucar', 'Clorox Company', \n",
    "           'Colgate Palmolive Company', 'Conagra Brands Inc', 'Continental AG', 'Corbion', \n",
    "           'Croda International', 'Curtis Packaging Corporation', 'Dai Nippon Printing Co., Ltd.', \n",
    "           'Danone', 'Dawn Meats Group Ltd', 'Deckers Outdoor Corp.', 'Dexco S.A', 'DS Smith Plc', \n",
    "           'Eastman Chemical Company', 'ENGIE', 'Essity', 'Estee Lauder Companies Inc.', \n",
    "           'Evonik Industries AG', 'Fast Retailing Co., Ltd.', 'Fresh Del Monte Produce Inc', 'FUJI OIL HOLDINGS INC.', 'General Mills Inc.', 'Georgia-Pacific', 'GlaxoSmithKline', 'Godrej Agrovet', 'Golden Agri-Resources', 'Golden West Trading Inc', 'GRAFICA E EDITORA POSIGRAF', 'Graphic Packaging International LLC', 'Grupo Bimbo, S.A.B. de C.V.', 'Grupo Clarin SA', 'GRUPO DE MODA SOMA SA', 'Grupo Herdez', 'H&M Hennes & Mauritz AB', 'Henkel AG & Co. KGaA', 'Hermes International', 'Hilton Food Group plc', 'Holmen', 'HP Inc', 'INDFRAG LTD (GROUP)', 'Inditex', 'Inner Mongolia Yili Industrial Group', 'International Flavors & Fragrances Inc.', 'International Paper Company', 'IOI Corporation Berhad', 'ISF-International Specialty Fats Sdn Bhd', 'Itoham Yonekyu Holdings', 'J Sainsbury Plc', 'JBS S.A', 'Jerónimo Martins SGPS SA', 'Johnson & Johnson', 'KAO Corporation', 'Kimberly-Clark Corporation', 'Kimberly-Clark de México S.A.B. de C.V.', 'Kingfisher', 'Klabin S/A', 'Kobayashi Pharmaceutical Co., Ltd.', 'Kokuyo Co., Ltd.', 'L'Oréal', 'Lotus Bakeries', 'Lowe's Companies, Inc.', 'LVMH', 'Marfrig Global Foods S/A', 'Mars', 'Marubeni Corporation', 'Mayr-Melnhof Karton Aktiengesellschaft', 'MEGMILK SNOW BRAND Co.,Ltd.', 'Metro AG', 'Metsä Board Corporation', 'Michelin', 'Minerva Foods', 'Miquel y Costas', 'Mitsubishi Paper Mills Ltd', 'Mitsui & Co., Ltd.', 'Mondelez International Inc', 'Mondi PLC', 'Morgan Sindall Group plc', 'Morinaga Milk Industry Co., Ltd.', 'MOTHER PARKERS TEA & COFFEE', 'MRV Engenharia e Participações', 'Musim Mas Holdings Pte Ltd', 'Nagase & Co., Ltd.', 'Neste Oyj', 'Nestlé', 'NH Foods Ltd.', 'Oji Holdings Corporation', 'Olam International', 'OLEON HOLDING', 'Oxiteno S.A.', 'Pactiv Evergreen, Inc.', 'PepsiCo, Inc.', 'Philip Morris International', 'Pirelli', 'PotlatchDeltic Corporation', 'Precious Woods Holding AG', 'Procter & Gamble Company', 'PT Asia Pulp & Paper', 'PT Asian Agri', 'PT Austindo Nusantara Jaya, Tbk', 'PT Ecogreen Oleochemicals', 'PT Perum Perhutani', 'PZ Cussons', 'Reckitt Benckiser', 'Resolute Forest Products Inc.', 'Robertet SA', 'Royal BAM Group nv', 'S.C. Johnson & Son, Inc.', 'S.T. CORPORATION', 'Sappi', 'SCA', 'Sekisui House, Ltd.', 'Siam Cement', 'SILAB', 'Sime Darby Plantation Berhad', 'Sipef NV', 'SLC Agricola SA', 'Smurfit Kappa Group PLC', 'Sodexo', 'Sojitz Corporation', 'Sonae', 'Sonoco Products Company', 'SSE', 'Starbucks Corporation', 'Stéarinerie Dubois', 'Stora Enso Oyj', 'Sumitomo Corporation', 'Sumitomo Forestry Co., Ltd.', 'Suzano Papel & Celulose', 'Sylvamo Corporation', 'Taisei Corporation', 'Takasago International Corporation', 'Tesco', 'TETRA PAK', 'The Dow Chemical Company', 'The Hershey Company', 'The Navigator Company', 'The Nisshin OilliO Group,Ltd.', 'The Yokohama Rubber Co., Ltd.', 'Toppan Inc.', 'Toyota Tsusho Corporation', 'Tyson Foods, Inc.', 'Uni-Charm Corporation', 'Unilever plc', 'Universal Corporation', 'UPM-Kymmene Corporation', 'Want Want China Holdings Ltd.', 'West Fraser Timber Co. Ltd.', 'WestRock Company', 'Weyerhaeuser Company', 'Wilmar International Limited', 'Yum! Brands, Inc.']"
   ]
  },
  {
   "cell_type": "code",
   "execution_count": null,
   "id": "407e8388",
   "metadata": {},
   "outputs": [],
   "source": []
  }
 ],
 "metadata": {
  "kernelspec": {
   "display_name": "Python 3 (ipykernel)",
   "language": "python",
   "name": "python3"
  },
  "language_info": {
   "codemirror_mode": {
    "name": "ipython",
    "version": 3
   },
   "file_extension": ".py",
   "mimetype": "text/x-python",
   "name": "python",
   "nbconvert_exporter": "python",
   "pygments_lexer": "ipython3",
   "version": "3.9.13"
  }
 },
 "nbformat": 4,
 "nbformat_minor": 5
}
